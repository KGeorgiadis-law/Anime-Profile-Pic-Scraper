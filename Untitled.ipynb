{
 "cells": [
  {
   "cell_type": "markdown",
   "metadata": {},
   "source": [
    "# Anime Profile Pic Scraper\n",
    "\n",
    "A bot to: \n",
    "1. Cycle through all the characters in https://myanimelist.net starting from https://myanimelist.net/character/1 ;\n",
    "2. For each character, to navigate to its pictures page eg https://myanimelist.net/character/1/Spike_Spiegel/pictures * (as a side note, I could perhaps search instead for https://myanimelist.net/character/1/<???>/pictures) *\n",
    "3. Scrape all links to the profile pictures\n",
    "4. Create a new folder with the ID + Profile name of the Character\n",
    "5. Save all pictures in this new folder\n",
    "6. Repeat\n",
    "\n",
    "## How will it do each step?\n",
    "\n",
    "1. Character IDs are incremental - we can simply start from https://myanimelist.net/character/1 and then add 1 until we receive an error; As a failsafe, consider saving the enumerator in an outside text file.\n",
    "2. Two possible methods using bs4:\n",
    "    1. Scrape link to the pages by navigating to its position on the page\n",
    "    2. Search each `<a>` tag on the page for https://myanimelist.net/character/1/<???>/pictures\n",
    "3. Use bs4 to create a list of all the links * (idea, how about using a <a href=\"https://docs.python.org/3.3/tutorial/datastructures.html\"><strong>set rather than a list</strong></a>? Sets naturally check for duplicates and eliminate them - thus ensuring a picture is not downloaded twice). *\n",
    "4. It should be easy to scrape the name from either the original character page or the character page. Then use the os module to create a new folder with the id and the name.\n",
    "5. Cycle through the set created in step 3. and download the pictures. A good option to do this is `urllib.request.urlretrieve()` (<a href='https://stackoverflow.com/a/8286449'>see here for reference</a>)\n",
    "6. Print out confirmation message, add 1 to the enumerator, and repeat."
   ]
  },
  {
   "cell_type": "code",
   "execution_count": 1,
   "metadata": {
    "collapsed": true
   },
   "outputs": [],
   "source": [
    "#!/usr/bin/python3\n",
    "\n",
    "# coding: utf-8\n",
    "\n",
    "# !Py3.5.2"
   ]
  },
  {
   "cell_type": "code",
   "execution_count": null,
   "metadata": {
    "collapsed": true
   },
   "outputs": [],
   "source": []
  }
 ],
 "metadata": {
  "anaconda-cloud": {},
  "kernelspec": {
   "display_name": "Python [conda root]",
   "language": "python",
   "name": "conda-root-py"
  },
  "language_info": {
   "codemirror_mode": {
    "name": "ipython",
    "version": 3
   },
   "file_extension": ".py",
   "mimetype": "text/x-python",
   "name": "python",
   "nbconvert_exporter": "python",
   "pygments_lexer": "ipython3",
   "version": "3.5.2"
  }
 },
 "nbformat": 4,
 "nbformat_minor": 1
}
